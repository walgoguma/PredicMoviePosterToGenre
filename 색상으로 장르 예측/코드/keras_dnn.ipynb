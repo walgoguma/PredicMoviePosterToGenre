{
 "cells": [
  {
   "cell_type": "code",
   "execution_count": 1,
   "id": "601bf1d1",
   "metadata": {},
   "outputs": [
    {
     "name": "stderr",
     "output_type": "stream",
     "text": [
      "C:\\Users\\Home\\AppData\\Local\\Programs\\Python\\Python39\\lib\\site-packages\\keras\\optimizers\\optimizer_v2\\gradient_descent.py:114: UserWarning: The `lr` argument is deprecated, use `learning_rate` instead.\n",
      "  super().__init__(name, **kwargs)\n"
     ]
    },
    {
     "name": "stdout",
     "output_type": "stream",
     "text": [
      "Epoch 1/10\n",
      "26/26 [==============================] - 1s 5ms/step - loss: nan - categorical_accuracy: 0.2729\n",
      "Epoch 2/10\n",
      "26/26 [==============================] - 0s 4ms/step - loss: nan - categorical_accuracy: 0.1477\n",
      "Epoch 3/10\n",
      "26/26 [==============================] - 0s 3ms/step - loss: nan - categorical_accuracy: 0.1477\n",
      "Epoch 4/10\n",
      "26/26 [==============================] - 0s 3ms/step - loss: nan - categorical_accuracy: 0.1477\n",
      "Epoch 5/10\n",
      "26/26 [==============================] - 0s 3ms/step - loss: nan - categorical_accuracy: 0.1477\n",
      "Epoch 6/10\n",
      "26/26 [==============================] - 0s 3ms/step - loss: nan - categorical_accuracy: 0.1477\n",
      "Epoch 7/10\n",
      "26/26 [==============================] - 0s 3ms/step - loss: nan - categorical_accuracy: 0.1477\n",
      "Epoch 8/10\n",
      "26/26 [==============================] - 0s 3ms/step - loss: nan - categorical_accuracy: 0.1477\n",
      "Epoch 9/10\n",
      "26/26 [==============================] - 0s 4ms/step - loss: nan - categorical_accuracy: 0.1477\n",
      "Epoch 10/10\n",
      "26/26 [==============================] - 0s 4ms/step - loss: nan - categorical_accuracy: 0.1477\n"
     ]
    }
   ],
   "source": [
    "from keras.models import Sequential\n",
    "from keras.layers import Dense, Dropout, Activation\n",
    "from keras.optimizers import SGD\n",
    "from keras import metrics\n",
    "import pandas as pd\n",
    "import glob\n",
    "import numpy as np\n",
    "import matplotlib.pyplot as plt\n",
    "\n",
    "\n",
    "Location_input = \"./데이터셋 입력값.xlsx\"\n",
    "data_pd1 = pd.read_excel(Location_input)\n",
    "data_np1 = pd.DataFrame.to_numpy(data_pd1)\n",
    "\n",
    "Location_result = \"./데이터셋 결과값.xlsx\"\n",
    "data_pd2 = pd.read_excel(Location_result)\n",
    "data_np2 = pd.DataFrame.to_numpy(data_pd2)\n",
    "\n",
    "trainX = data_np1\n",
    "trainY = data_np2\n",
    "model = Sequential([\n",
    "    Dense(10, input_shape=(15,)),\n",
    "    Activation('relu'),\n",
    "    Dense(4),\n",
    "    Activation('softmax'),\n",
    "])\n",
    "\n",
    "sgd = SGD(lr=0.01, decay=1e-6, momentum=0.9, nesterov=True)\n",
    "model.compile(loss='categorical_crossentropy', optimizer=sgd, metrics=[metrics.categorical_accuracy])\n",
    "\n",
    "model.fit(trainX, trainY, epochs=10, batch_size=500)\n",
    "model.save('model1.h5')"
   ]
  },
  {
   "cell_type": "code",
   "execution_count": null,
   "id": "2e9178c3",
   "metadata": {},
   "outputs": [],
   "source": []
  }
 ],
 "metadata": {
  "kernelspec": {
   "display_name": "Python 3 (ipykernel)",
   "language": "python",
   "name": "python3"
  },
  "language_info": {
   "codemirror_mode": {
    "name": "ipython",
    "version": 3
   },
   "file_extension": ".py",
   "mimetype": "text/x-python",
   "name": "python",
   "nbconvert_exporter": "python",
   "pygments_lexer": "ipython3",
   "version": "3.9.12"
  }
 },
 "nbformat": 4,
 "nbformat_minor": 5
}
