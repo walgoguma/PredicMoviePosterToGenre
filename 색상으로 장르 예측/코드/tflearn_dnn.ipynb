{
 "cells": [
  {
   "cell_type": "code",
   "execution_count": 1,
   "id": "4e7ef3b5",
   "metadata": {
    "scrolled": true
   },
   "outputs": [
    {
     "name": "stdout",
     "output_type": "stream",
     "text": [
      "Training Step: 2299  | total loss: \u001b[1m\u001b[32mnan\u001b[0m\u001b[0m | time: 0.227s\n",
      "| SGD | epoch: 020 | loss: nan - acc: 0.1556 -- iter: 11400/11457\n",
      "Training Step: 2300  | total loss: \u001b[1m\u001b[32mnan\u001b[0m\u001b[0m | time: 1.250s\n",
      "| SGD | epoch: 020 | loss: nan - acc: 0.1580 | val_loss: nan - val_acc: 0.1273 -- iter: 11457/11457\n",
      "--\n",
      "[0 0 0 ... 0 0 0]\n",
      "[0 1 2 ... 3 0 1]\n",
      "0.1476826394344069\n",
      "INFO:tensorflow:C:\\Users\\Home\\anaconda3\\envs\\tfbook\\model2.h5 is not in all_model_checkpoint_paths. Manually adding it.\n"
     ]
    }
   ],
   "source": [
    "import tensorflow as tf\n",
    "import pandas as pd\n",
    "import glob\n",
    "import numpy as np\n",
    "import matplotlib.pyplot as plt\n",
    "from matplotlib import cm\n",
    "from keras import layers,models\n",
    "import tflearn\n",
    "import tflearn.datasets.mnist as mnist\n",
    "tf.compat.v1.reset_default_graph()\n",
    "\n",
    "Location_input = \"./데이터셋 입력값.xlsx\"\n",
    "data_pd1 = pd.read_excel(Location_input)\n",
    "data_np1 = pd.DataFrame.to_numpy(data_pd1)\n",
    "\n",
    "Location_result = \"./데이터셋 결과값.xlsx\"\n",
    "data_pd2 = pd.read_excel(Location_result)\n",
    "data_np2 = pd.DataFrame.to_numpy(data_pd2)\n",
    "\n",
    "trainX = data_np1\n",
    "trainY = data_np2\n",
    " \n",
    "\n",
    "net = tflearn.input_data(shape=[None, 15]) \n",
    "net = tflearn.fully_connected(net, 15, activation='relu') \n",
    "net = tflearn.fully_connected(net, 4, activation='softmax')\n",
    "net = tflearn.regression(net, optimizer='sgd', learning_rate=0.5, loss='categorical_crossentropy')\n",
    "\n",
    "model = tflearn.DNN(net)\n",
    "model.fit(trainX, trainY, n_epoch=20, batch_size=100, validation_set=0.1, show_metric=True)\n",
    "\n",
    "pred = np.array(model.predict(trainX)).argmax(axis=1)\n",
    "# model.pridict함수로 모델을 testX에 적용, 결과는 행렬형식으로 pred변수에 저장\n",
    "print(pred)\n",
    "\n",
    "label = trainY.argmax(axis=1)\n",
    "# 테스트용 정답데이터인 testY를 label변수에 저장\n",
    "print(label)\n",
    "\n",
    "accuracy = np.mean(pred ==label, axis=0)\n",
    "# 두 행렬을 비교하여 얼마나 동일한지 비교하는 함수, 정밀도 구하기\n",
    "print(accuracy)"
   ]
  },
  {
   "cell_type": "code",
   "execution_count": null,
   "id": "75bea1f3",
   "metadata": {},
   "outputs": [],
   "source": []
  }
 ],
 "metadata": {
  "kernelspec": {
   "display_name": "Python 3 (ipykernel)",
   "language": "python",
   "name": "python3"
  },
  "language_info": {
   "codemirror_mode": {
    "name": "ipython",
    "version": 3
   },
   "file_extension": ".py",
   "mimetype": "text/x-python",
   "name": "python",
   "nbconvert_exporter": "python",
   "pygments_lexer": "ipython3",
   "version": "3.9.12"
  }
 },
 "nbformat": 4,
 "nbformat_minor": 5
}
